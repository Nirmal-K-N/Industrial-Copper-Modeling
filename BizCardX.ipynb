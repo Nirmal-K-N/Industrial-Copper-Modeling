{
 "cells": [
  {
   "cell_type": "code",
   "execution_count": 4,
   "metadata": {},
   "outputs": [],
   "source": [
    "import streamlit as st\n",
    "import easyocr\n",
    "import io\n",
    "from io import BytesIO\n",
    "from streamlit_option_menu import option_menu\n",
    "import mysql.connector\n",
    "import pandas as pd\n",
    "import re\n",
    "from PIL import Image\n",
    "import numpy as np\n",
    "import os\n",
    "from pprint import pprint"
   ]
  },
  {
   "cell_type": "code",
   "execution_count": 2,
   "metadata": {},
   "outputs": [],
   "source": [
    "mydb = mysql.connector.connect(\n",
    "    host='localhost',\n",
    "    user='root',\n",
    "    password='Nirmal9699',\n",
    "    database='business_cards')\n",
    "cursor = mydb.cursor()\n",
    "\n",
    "\n",
    "create='''create table if not exists bixcard(name varchar(100),\n",
    "                                        designation varchar(100),\n",
    "                                        company_name varchar(100),\n",
    "                                        contact varchar(100),\n",
    "                                        alternative varchar(100),\n",
    "                                        email varchar(100),\n",
    "                                        website varchar(100),\n",
    "                                        street varchar(100),\n",
    "                                        city varchar(100),\n",
    "                                        state varchar(100),\n",
    "                                        pincode varchar(100),\n",
    "                                        image_byt longblob)'''\n",
    "cursor.execute(create)\n",
    "mydb.commit()\n"
   ]
  },
  {
   "cell_type": "code",
   "execution_count": 19,
   "metadata": {},
   "outputs": [
    {
     "name": "stderr",
     "output_type": "stream",
     "text": [
      "Neither CUDA nor MPS are available - defaulting to CPU. Note: This module is much faster with a GPU.\n"
     ]
    },
    {
     "data": {
      "text/html": [
       "<div>\n",
       "<style scoped>\n",
       "    .dataframe tbody tr th:only-of-type {\n",
       "        vertical-align: middle;\n",
       "    }\n",
       "\n",
       "    .dataframe tbody tr th {\n",
       "        vertical-align: top;\n",
       "    }\n",
       "\n",
       "    .dataframe thead th {\n",
       "        text-align: right;\n",
       "    }\n",
       "</style>\n",
       "<table border=\"1\" class=\"dataframe\">\n",
       "  <thead>\n",
       "    <tr style=\"text-align: right;\">\n",
       "      <th></th>\n",
       "      <th>Name</th>\n",
       "      <th>Designation</th>\n",
       "      <th>Company_Name</th>\n",
       "      <th>Contact</th>\n",
       "      <th>Alternative_Contact</th>\n",
       "      <th>Email</th>\n",
       "      <th>Website</th>\n",
       "      <th>Street</th>\n",
       "      <th>City</th>\n",
       "      <th>State</th>\n",
       "      <th>Pincode</th>\n",
       "      <th>Image_Path</th>\n",
       "    </tr>\n",
       "  </thead>\n",
       "  <tbody>\n",
       "    <tr>\n",
       "      <th>0</th>\n",
       "      <td>Amit kumar</td>\n",
       "      <td>CEO &amp; FOUNDER</td>\n",
       "      <td>GLOBAL INSURANCE</td>\n",
       "      <td>123-456-7569</td>\n",
       "      <td>None</td>\n",
       "      <td>hello@global.com</td>\n",
       "      <td>WWW.global.com</td>\n",
       "      <td>123 global St,</td>\n",
       "      <td>Erode</td>\n",
       "      <td>TamilNadu</td>\n",
       "      <td>600115</td>\n",
       "      <td>C:\\Guvi\\Project\\BizCardX_ Extracting Business ...</td>\n",
       "    </tr>\n",
       "  </tbody>\n",
       "</table>\n",
       "</div>"
      ],
      "text/plain": [
       "         Name    Designation      Company_Name       Contact  \\\n",
       "0  Amit kumar  CEO & FOUNDER  GLOBAL INSURANCE  123-456-7569   \n",
       "\n",
       "  Alternative_Contact             Email         Website          Street  \\\n",
       "0                None  hello@global.com  WWW.global.com  123 global St,   \n",
       "\n",
       "    City      State Pincode                                         Image_Path  \n",
       "0  Erode  TamilNadu  600115  C:\\Guvi\\Project\\BizCardX_ Extracting Business ...  "
      ]
     },
     "execution_count": 19,
     "metadata": {},
     "output_type": "execute_result"
    }
   ],
   "source": [
    "def upload_image(image_path):\n",
    "    reader = easyocr.Reader(['en'])\n",
    "    result = reader.readtext(image_path)\n",
    "    details = [res[1] for res in result]\n",
    "\n",
    "    name = []\n",
    "    designation = []\n",
    "    contact = []\n",
    "    email = []\n",
    "    website = []\n",
    "    street = []\n",
    "    city = []\n",
    "    state = []\n",
    "    pincode = []\n",
    "    company = []\n",
    "\n",
    "    for detail in details:\n",
    "        match1 = re.findall('([0-9]+ [A-Z]+ [A-Za-z]+)., ([a-zA-Z]+). ([a-zA-Z]+)', detail)\n",
    "        match2 = re.findall('([0-9]+ [A-Z]+ [A-Za-z]+)., ([a-zA-Z]+)', detail)\n",
    "        match3 = re.findall('^[E].+[a-z]', detail)\n",
    "        match4 = re.findall('([A-Za-z]+) ([0-9]+)', detail)\n",
    "        match5 = re.findall('([0-9]+ [a-zA-z]+)', detail)\n",
    "        match6 = re.findall('.com$', detail)\n",
    "        match7 = re.findall('([0-9]+)', detail)\n",
    "\n",
    "        if detail == details[0]:\n",
    "            name.append(detail)\n",
    "        elif detail == details[1]:\n",
    "            designation.append(detail)\n",
    "        elif '-' in detail:\n",
    "            contact.append(detail)\n",
    "        elif '@' in detail:\n",
    "            email.append(detail)\n",
    "        elif \"www \" in detail.lower() or \"www.\" in detail.lower():\n",
    "            website.append(detail)\n",
    "        elif \"WWW\" in detail:\n",
    "            website.append(detail + \".\" + details[details.index(detail) + 1])\n",
    "        elif match6:\n",
    "            pass\n",
    "        elif match1:\n",
    "            street.append(match1[0][0])\n",
    "            city.append(match1[0][1])\n",
    "            state.append(match1[0][2])\n",
    "        elif match2:\n",
    "            street.append(match2[0][0])\n",
    "            city.append(match2[0][1])\n",
    "        elif match3:\n",
    "            city.append(match3[0])\n",
    "        elif match4:\n",
    "            state.append(match4[0][0])\n",
    "            pincode.append(match4[0][1])\n",
    "        elif match5:\n",
    "            street.append(match5[0] + ' St,')\n",
    "        elif match7:\n",
    "            pincode.append(match7[0])\n",
    "        else:\n",
    "            company.append(detail)\n",
    "\n",
    "    if len(company) > 1:\n",
    "        comp = company[0] + ' ' + company[1]\n",
    "    else:\n",
    "        comp = company[0]\n",
    "\n",
    "    contact_number = contact[0] if contact else None\n",
    "    alternative_number = contact[1] if len(contact) > 1 else None\n",
    "\n",
    "    image_details = {'Name': name[0], 'Designation': designation[0], 'Company_Name': comp,\n",
    "                     'Contact': contact_number, 'Alternative_Contact': alternative_number, 'Email': email[0],\n",
    "                     'Website': website[0], 'Street': street[0], 'City': city[0], 'State': state[0],\n",
    "                     'Pincode': pincode[0],'Image_Path': image_path}\n",
    "\n",
    "    return image_details\n",
    "\n",
    "# Example usage for a single image\n",
    "image_path = r\"C:\\Guvi\\Project\\BizCardX_ Extracting Business Card Data with OCR\\2.png\"\n",
    "df = pd.DataFrame([upload_image(image_path)])\n",
    "df"
   ]
  },
  {
   "cell_type": "code",
   "execution_count": 16,
   "metadata": {},
   "outputs": [
    {
     "data": {
      "text/plain": [
       "0    Amit kumar\n",
       "Name: name, dtype: object"
      ]
     },
     "execution_count": 16,
     "metadata": {},
     "output_type": "execute_result"
    }
   ],
   "source": [
    "df.name"
   ]
  }
 ],
 "metadata": {
  "kernelspec": {
   "display_name": "Python 3",
   "language": "python",
   "name": "python3"
  },
  "language_info": {
   "codemirror_mode": {
    "name": "ipython",
    "version": 3
   },
   "file_extension": ".py",
   "mimetype": "text/x-python",
   "name": "python",
   "nbconvert_exporter": "python",
   "pygments_lexer": "ipython3",
   "version": "3.11.5"
  }
 },
 "nbformat": 4,
 "nbformat_minor": 2
}
