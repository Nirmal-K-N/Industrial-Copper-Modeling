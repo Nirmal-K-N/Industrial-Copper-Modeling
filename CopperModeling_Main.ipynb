{
 "cells": [
  {
   "cell_type": "code",
   "execution_count": 65,
   "metadata": {},
   "outputs": [],
   "source": [
    "import pandas as pd\n",
    "import numpy as np\n",
    "import matplotlib.pyplot as plt\n",
    "import seaborn as sns\n",
    "import math\n",
    "from sklearn.preprocessing import LabelEncoder\n",
    "from sklearn.model_selection import train_test_split\n",
    "from sklearn.metrics import accuracy_score,precision_score,recall_score,f1_score\n",
    "from sklearn.metrics import mean_squared_error,r2_score\n",
    "from sklearn.preprocessing import StandardScaler\n",
    "\n",
    "# Regression\n",
    "from sklearn.linear_model import Lasso, Ridge\n",
    "from sklearn.linear_model import LinearRegression\n",
    "from sklearn.tree import DecisionTreeRegressor\n",
    "from sklearn.neighbors import KNeighborsRegressor\n",
    "from sklearn.ensemble import RandomForestRegressor\n",
    "\n",
    "# Classification\n",
    "\n",
    "from sklearn.linear_model import LogisticRegression\n",
    "from sklearn.tree import DecisionTreeClassifier\n",
    "from sklearn.neighbors import KNeighborsClassifier\n",
    "from sklearn.ensemble import AdaBoostClassifier\n",
    "from sklearn.ensemble import GradientBoostingClassifier\n",
    "from sklearn.ensemble import RandomForestClassifier"
   ]
  },
  {
   "cell_type": "code",
   "execution_count": 66,
   "metadata": {},
   "outputs": [
    {
     "name": "stderr",
     "output_type": "stream",
     "text": [
      "C:\\Users\\winne\\AppData\\Local\\Temp\\ipykernel_19104\\3794250180.py:1: DtypeWarning: Columns (2) have mixed types. Specify dtype option on import or set low_memory=False.\n",
      "  df = pd.read_csv(\"C:\\Guvi\\Project\\Industrial Copper Modeling\\Copper_Set.xlsx - Result 1.csv\")\n"
     ]
    },
    {
     "data": {
      "text/html": [
       "<div>\n",
       "<style scoped>\n",
       "    .dataframe tbody tr th:only-of-type {\n",
       "        vertical-align: middle;\n",
       "    }\n",
       "\n",
       "    .dataframe tbody tr th {\n",
       "        vertical-align: top;\n",
       "    }\n",
       "\n",
       "    .dataframe thead th {\n",
       "        text-align: right;\n",
       "    }\n",
       "</style>\n",
       "<table border=\"1\" class=\"dataframe\">\n",
       "  <thead>\n",
       "    <tr style=\"text-align: right;\">\n",
       "      <th></th>\n",
       "      <th>id</th>\n",
       "      <th>item_date</th>\n",
       "      <th>quantity tons</th>\n",
       "      <th>customer</th>\n",
       "      <th>country</th>\n",
       "      <th>status</th>\n",
       "      <th>item type</th>\n",
       "      <th>application</th>\n",
       "      <th>thickness</th>\n",
       "      <th>width</th>\n",
       "      <th>material_ref</th>\n",
       "      <th>product_ref</th>\n",
       "      <th>delivery date</th>\n",
       "      <th>selling_price</th>\n",
       "    </tr>\n",
       "  </thead>\n",
       "  <tbody>\n",
       "    <tr>\n",
       "      <th>0</th>\n",
       "      <td>EC06F063-9DF0-440C-8764-0B0C05A4F6AE</td>\n",
       "      <td>20210401.0</td>\n",
       "      <td>54.151139</td>\n",
       "      <td>30156308.0</td>\n",
       "      <td>28.0</td>\n",
       "      <td>Won</td>\n",
       "      <td>W</td>\n",
       "      <td>10.0</td>\n",
       "      <td>2.00</td>\n",
       "      <td>1500.0</td>\n",
       "      <td>DEQ1 S460MC</td>\n",
       "      <td>1670798778</td>\n",
       "      <td>20210701.0</td>\n",
       "      <td>854.00</td>\n",
       "    </tr>\n",
       "    <tr>\n",
       "      <th>1</th>\n",
       "      <td>4E5F4B3D-DDDF-499D-AFDE-A3227EC49425</td>\n",
       "      <td>20210401.0</td>\n",
       "      <td>768.024839</td>\n",
       "      <td>30202938.0</td>\n",
       "      <td>25.0</td>\n",
       "      <td>Won</td>\n",
       "      <td>W</td>\n",
       "      <td>41.0</td>\n",
       "      <td>0.80</td>\n",
       "      <td>1210.0</td>\n",
       "      <td>0000000000000000000000000000000000104991</td>\n",
       "      <td>1668701718</td>\n",
       "      <td>20210401.0</td>\n",
       "      <td>1047.00</td>\n",
       "    </tr>\n",
       "    <tr>\n",
       "      <th>2</th>\n",
       "      <td>E140FF1B-2407-4C02-A0DD-780A093B1158</td>\n",
       "      <td>20210401.0</td>\n",
       "      <td>386.127949</td>\n",
       "      <td>30153963.0</td>\n",
       "      <td>30.0</td>\n",
       "      <td>Won</td>\n",
       "      <td>WI</td>\n",
       "      <td>28.0</td>\n",
       "      <td>0.38</td>\n",
       "      <td>952.0</td>\n",
       "      <td>S0380700</td>\n",
       "      <td>628377</td>\n",
       "      <td>20210101.0</td>\n",
       "      <td>644.33</td>\n",
       "    </tr>\n",
       "    <tr>\n",
       "      <th>3</th>\n",
       "      <td>F8D507A0-9C62-4EFE-831E-33E1DA53BB50</td>\n",
       "      <td>20210401.0</td>\n",
       "      <td>202.411065</td>\n",
       "      <td>30349574.0</td>\n",
       "      <td>32.0</td>\n",
       "      <td>Won</td>\n",
       "      <td>S</td>\n",
       "      <td>59.0</td>\n",
       "      <td>2.30</td>\n",
       "      <td>1317.0</td>\n",
       "      <td>DX51D+ZM310MAO 2.3X1317</td>\n",
       "      <td>1668701718</td>\n",
       "      <td>20210101.0</td>\n",
       "      <td>768.00</td>\n",
       "    </tr>\n",
       "    <tr>\n",
       "      <th>4</th>\n",
       "      <td>4E1C4E78-152B-430A-8094-ADD889C9D0AD</td>\n",
       "      <td>20210401.0</td>\n",
       "      <td>785.526262</td>\n",
       "      <td>30211560.0</td>\n",
       "      <td>28.0</td>\n",
       "      <td>Won</td>\n",
       "      <td>W</td>\n",
       "      <td>10.0</td>\n",
       "      <td>4.00</td>\n",
       "      <td>2000.0</td>\n",
       "      <td>2_S275JR+AR-CL1</td>\n",
       "      <td>640665</td>\n",
       "      <td>20210301.0</td>\n",
       "      <td>577.00</td>\n",
       "    </tr>\n",
       "    <tr>\n",
       "      <th>...</th>\n",
       "      <td>...</td>\n",
       "      <td>...</td>\n",
       "      <td>...</td>\n",
       "      <td>...</td>\n",
       "      <td>...</td>\n",
       "      <td>...</td>\n",
       "      <td>...</td>\n",
       "      <td>...</td>\n",
       "      <td>...</td>\n",
       "      <td>...</td>\n",
       "      <td>...</td>\n",
       "      <td>...</td>\n",
       "      <td>...</td>\n",
       "      <td>...</td>\n",
       "    </tr>\n",
       "    <tr>\n",
       "      <th>181668</th>\n",
       "      <td>DE633116-D1DF-4846-982E-55EFC3658A76</td>\n",
       "      <td>20200702.0</td>\n",
       "      <td>102.4824216</td>\n",
       "      <td>30200854.0</td>\n",
       "      <td>25.0</td>\n",
       "      <td>Won</td>\n",
       "      <td>W</td>\n",
       "      <td>41.0</td>\n",
       "      <td>0.96</td>\n",
       "      <td>1220.0</td>\n",
       "      <td>0000000000000000000000000000000001000777</td>\n",
       "      <td>164141591</td>\n",
       "      <td>20200701.0</td>\n",
       "      <td>591.00</td>\n",
       "    </tr>\n",
       "    <tr>\n",
       "      <th>181669</th>\n",
       "      <td>A48374B1-E6DB-45F2-889A-1F9C27C099EB</td>\n",
       "      <td>20200702.0</td>\n",
       "      <td>208.0864686</td>\n",
       "      <td>30200854.0</td>\n",
       "      <td>25.0</td>\n",
       "      <td>Won</td>\n",
       "      <td>W</td>\n",
       "      <td>41.0</td>\n",
       "      <td>0.95</td>\n",
       "      <td>1500.0</td>\n",
       "      <td>0000000000000000000000000000000001000227</td>\n",
       "      <td>164141591</td>\n",
       "      <td>20200701.0</td>\n",
       "      <td>589.00</td>\n",
       "    </tr>\n",
       "    <tr>\n",
       "      <th>181670</th>\n",
       "      <td>91643238-5C7B-4237-9A5F-63AE3D35F320</td>\n",
       "      <td>20200702.0</td>\n",
       "      <td>4.235593568</td>\n",
       "      <td>30200854.0</td>\n",
       "      <td>25.0</td>\n",
       "      <td>Won</td>\n",
       "      <td>W</td>\n",
       "      <td>41.0</td>\n",
       "      <td>0.71</td>\n",
       "      <td>1250.0</td>\n",
       "      <td>0000000000000000000000000000000001004216</td>\n",
       "      <td>164141591</td>\n",
       "      <td>20200701.0</td>\n",
       "      <td>619.00</td>\n",
       "    </tr>\n",
       "    <tr>\n",
       "      <th>181671</th>\n",
       "      <td>7AFFD323-01D9-4E15-B80D-7D1B03498FC8</td>\n",
       "      <td>20200702.0</td>\n",
       "      <td>-2000</td>\n",
       "      <td>30200854.0</td>\n",
       "      <td>25.0</td>\n",
       "      <td>Won</td>\n",
       "      <td>W</td>\n",
       "      <td>41.0</td>\n",
       "      <td>0.85</td>\n",
       "      <td>1250.0</td>\n",
       "      <td>0000000000000000000000000000000001001149</td>\n",
       "      <td>164141591</td>\n",
       "      <td>20200701.0</td>\n",
       "      <td>601.00</td>\n",
       "    </tr>\n",
       "    <tr>\n",
       "      <th>181672</th>\n",
       "      <td>AD0CA853-AE3C-4B2F-9FBB-8B0B965F84BC</td>\n",
       "      <td>20200702.0</td>\n",
       "      <td>406.6865384</td>\n",
       "      <td>30200854.0</td>\n",
       "      <td>25.0</td>\n",
       "      <td>Won</td>\n",
       "      <td>W</td>\n",
       "      <td>41.0</td>\n",
       "      <td>0.71</td>\n",
       "      <td>1240.0</td>\n",
       "      <td>0000000000000000000000000000000001005439</td>\n",
       "      <td>164141591</td>\n",
       "      <td>20200701.0</td>\n",
       "      <td>607.00</td>\n",
       "    </tr>\n",
       "  </tbody>\n",
       "</table>\n",
       "<p>181673 rows × 14 columns</p>\n",
       "</div>"
      ],
      "text/plain": [
       "                                          id   item_date quantity tons  \\\n",
       "0       EC06F063-9DF0-440C-8764-0B0C05A4F6AE  20210401.0     54.151139   \n",
       "1       4E5F4B3D-DDDF-499D-AFDE-A3227EC49425  20210401.0    768.024839   \n",
       "2       E140FF1B-2407-4C02-A0DD-780A093B1158  20210401.0    386.127949   \n",
       "3       F8D507A0-9C62-4EFE-831E-33E1DA53BB50  20210401.0    202.411065   \n",
       "4       4E1C4E78-152B-430A-8094-ADD889C9D0AD  20210401.0    785.526262   \n",
       "...                                      ...         ...           ...   \n",
       "181668  DE633116-D1DF-4846-982E-55EFC3658A76  20200702.0   102.4824216   \n",
       "181669  A48374B1-E6DB-45F2-889A-1F9C27C099EB  20200702.0   208.0864686   \n",
       "181670  91643238-5C7B-4237-9A5F-63AE3D35F320  20200702.0   4.235593568   \n",
       "181671  7AFFD323-01D9-4E15-B80D-7D1B03498FC8  20200702.0         -2000   \n",
       "181672  AD0CA853-AE3C-4B2F-9FBB-8B0B965F84BC  20200702.0   406.6865384   \n",
       "\n",
       "          customer  country status item type  application  thickness   width  \\\n",
       "0       30156308.0     28.0    Won         W         10.0       2.00  1500.0   \n",
       "1       30202938.0     25.0    Won         W         41.0       0.80  1210.0   \n",
       "2       30153963.0     30.0    Won        WI         28.0       0.38   952.0   \n",
       "3       30349574.0     32.0    Won         S         59.0       2.30  1317.0   \n",
       "4       30211560.0     28.0    Won         W         10.0       4.00  2000.0   \n",
       "...            ...      ...    ...       ...          ...        ...     ...   \n",
       "181668  30200854.0     25.0    Won         W         41.0       0.96  1220.0   \n",
       "181669  30200854.0     25.0    Won         W         41.0       0.95  1500.0   \n",
       "181670  30200854.0     25.0    Won         W         41.0       0.71  1250.0   \n",
       "181671  30200854.0     25.0    Won         W         41.0       0.85  1250.0   \n",
       "181672  30200854.0     25.0    Won         W         41.0       0.71  1240.0   \n",
       "\n",
       "                                    material_ref  product_ref  delivery date  \\\n",
       "0                                    DEQ1 S460MC   1670798778     20210701.0   \n",
       "1       0000000000000000000000000000000000104991   1668701718     20210401.0   \n",
       "2                                       S0380700       628377     20210101.0   \n",
       "3                        DX51D+ZM310MAO 2.3X1317   1668701718     20210101.0   \n",
       "4                                2_S275JR+AR-CL1       640665     20210301.0   \n",
       "...                                          ...          ...            ...   \n",
       "181668  0000000000000000000000000000000001000777    164141591     20200701.0   \n",
       "181669  0000000000000000000000000000000001000227    164141591     20200701.0   \n",
       "181670  0000000000000000000000000000000001004216    164141591     20200701.0   \n",
       "181671  0000000000000000000000000000000001001149    164141591     20200701.0   \n",
       "181672  0000000000000000000000000000000001005439    164141591     20200701.0   \n",
       "\n",
       "        selling_price  \n",
       "0              854.00  \n",
       "1             1047.00  \n",
       "2              644.33  \n",
       "3              768.00  \n",
       "4              577.00  \n",
       "...               ...  \n",
       "181668         591.00  \n",
       "181669         589.00  \n",
       "181670         619.00  \n",
       "181671         601.00  \n",
       "181672         607.00  \n",
       "\n",
       "[181673 rows x 14 columns]"
      ]
     },
     "execution_count": 66,
     "metadata": {},
     "output_type": "execute_result"
    }
   ],
   "source": [
    "df = pd.read_csv(\"C:\\Guvi\\Project\\Industrial Copper Modeling\\Copper_Set.xlsx - Result 1.csv\")\n",
    "df"
   ]
  },
  {
   "cell_type": "code",
   "execution_count": 67,
   "metadata": {},
   "outputs": [
    {
     "data": {
      "text/plain": [
       "id                object\n",
       "item_date        float64\n",
       "quantity tons     object\n",
       "customer         float64\n",
       "country          float64\n",
       "status            object\n",
       "item type         object\n",
       "application      float64\n",
       "thickness        float64\n",
       "width            float64\n",
       "material_ref      object\n",
       "product_ref        int64\n",
       "delivery date    float64\n",
       "selling_price    float64\n",
       "dtype: object"
      ]
     },
     "execution_count": 67,
     "metadata": {},
     "output_type": "execute_result"
    }
   ],
   "source": [
    "df.dtypes"
   ]
  },
  {
   "cell_type": "code",
   "execution_count": 68,
   "metadata": {},
   "outputs": [],
   "source": [
    "condition = df['quantity tons'] == 'e'\n",
    "# Use the condition to drop rows\n",
    "df.drop(df[condition].index, inplace=True)"
   ]
  },
  {
   "cell_type": "code",
   "execution_count": 69,
   "metadata": {},
   "outputs": [],
   "source": [
    "df['item_date'] = pd.to_datetime(df['item_date'], format='%Y%m%d', errors='coerce')\n",
    "df['quantity tons'] = pd.to_numeric(df['quantity tons'])\n",
    "df['customer'] = df['customer'].astype(str)\n",
    "df['country'] = df['country'].astype(str)\n",
    "df['status'] = df['status'].astype(str)\n",
    "df['item type'] = df['item type'].astype(str)\n",
    "df['application'] = pd.to_numeric(df['application'], errors='coerce')\n",
    "df['thickness'] = pd.to_numeric(df['thickness'], errors='coerce')\n",
    "df['width'] = pd.to_numeric(df['width'], errors='coerce')\n",
    "df['material_ref'] = df['material_ref'].astype(str)\n",
    "df['product_ref'] = pd.to_numeric(df['product_ref'], errors='coerce')\n",
    "df['delivery date'] = pd.to_datetime(df['delivery date'], format='%Y%m%d', errors='coerce')\n",
    "df['selling_price'] = pd.to_numeric(df['selling_price'], errors='coerce')"
   ]
  },
  {
   "cell_type": "code",
   "execution_count": 70,
   "metadata": {},
   "outputs": [],
   "source": [
    "df.replace('nan', np.nan, inplace=True)"
   ]
  },
  {
   "cell_type": "code",
   "execution_count": 71,
   "metadata": {},
   "outputs": [],
   "source": [
    "df.drop(['material_ref','id','item_date','delivery date','customer'],axis=1,inplace=True)"
   ]
  },
  {
   "cell_type": "code",
   "execution_count": 72,
   "metadata": {},
   "outputs": [
    {
     "data": {
      "text/plain": [
       "quantity tons     0\n",
       "country          28\n",
       "status            2\n",
       "item type         0\n",
       "application      24\n",
       "thickness         1\n",
       "width             0\n",
       "product_ref       0\n",
       "selling_price     1\n",
       "dtype: int64"
      ]
     },
     "execution_count": 72,
     "metadata": {},
     "output_type": "execute_result"
    }
   ],
   "source": [
    "df.isnull().sum()"
   ]
  },
  {
   "cell_type": "code",
   "execution_count": 77,
   "metadata": {},
   "outputs": [
    {
     "name": "stderr",
     "output_type": "stream",
     "text": [
      "C:\\Users\\winne\\AppData\\Local\\Temp\\ipykernel_19104\\726437158.py:3: SettingWithCopyWarning: \n",
      "A value is trying to be set on a copy of a slice from a DataFrame\n",
      "\n",
      "See the caveats in the documentation: https://pandas.pydata.org/pandas-docs/stable/user_guide/indexing.html#returning-a-view-versus-a-copy\n",
      "  df[['country','status']].bfill(inplace=True)\n"
     ]
    }
   ],
   "source": [
    "df = df.dropna(subset=[])\n",
    "#df[['country','status']] = df[['country','status']].fillna(method='bfill')\n",
    "df[['country','status']].bfill(inplace=True)\n",
    "df[['thickness','selling_price']] = df[['thickness','selling_price']].fillna(df[['thickness','selling_price']].mean())\n",
    "df['application'].fillna(df['application'].mode().iloc[0], inplace=True)"
   ]
  },
  {
   "cell_type": "code",
   "execution_count": 78,
   "metadata": {},
   "outputs": [
    {
     "data": {
      "text/plain": [
       "quantity tons    0\n",
       "country          0\n",
       "status           0\n",
       "item type        0\n",
       "application      0\n",
       "thickness        0\n",
       "width            0\n",
       "product_ref      0\n",
       "selling_price    0\n",
       "dtype: int64"
      ]
     },
     "execution_count": 78,
     "metadata": {},
     "output_type": "execute_result"
    }
   ],
   "source": [
    "df.isnull().sum()"
   ]
  },
  {
   "cell_type": "code",
   "execution_count": 29,
   "metadata": {},
   "outputs": [],
   "source": [
    "df = df.query(\"status != 'Offerable'\")\n",
    "df = df.query(\"`item type` != 'SLAWR'\")\n",
    "df = df[df[\"application\"]<=80]"
   ]
  },
  {
   "cell_type": "code",
   "execution_count": 30,
   "metadata": {},
   "outputs": [],
   "source": [
    "# Calculate the IQR\n",
    "Q1 = df['thickness'].quantile(0.25)\n",
    "Q3 = df['thickness'].quantile(0.75)\n",
    "IQR = Q3 - Q1\n",
    "\n",
    "# Set a scaling factor (adjust as needed)\n",
    "k = 1.5\n",
    "\n",
    "# Define the lower and upper bounds\n",
    "lower_bound = Q1 - k * IQR\n",
    "upper_bound = Q3 + k * IQR\n",
    "\n",
    "# Clip the outliers to the bounds\n",
    "df['thickness'] = df['thickness'].clip(lower=lower_bound, upper=upper_bound)"
   ]
  },
  {
   "cell_type": "code",
   "execution_count": 31,
   "metadata": {},
   "outputs": [],
   "source": [
    "# Calculate the IQR\n",
    "Q1 = df['quantity tons'].quantile(0.25)\n",
    "Q3 = df['quantity tons'].quantile(0.75)\n",
    "IQR = Q3 - Q1\n",
    "\n",
    "# Set a scaling factor (adjust as needed)\n",
    "k = 1.5\n",
    "\n",
    "# Define the lower and upper bounds\n",
    "lower_bound = Q1 - k * IQR\n",
    "upper_bound = Q3 + k * IQR\n",
    "\n",
    "# Clip the outliers to the bounds\n",
    "df['quantity tons'] = df['quantity tons'].clip(lower=lower_bound, upper=upper_bound)"
   ]
  },
  {
   "cell_type": "code",
   "execution_count": 32,
   "metadata": {},
   "outputs": [],
   "source": [
    "# Calculate the IQR\n",
    "Q1 = df['width'].quantile(0.25)\n",
    "Q3 = df['width'].quantile(0.75)\n",
    "IQR = Q3 - Q1\n",
    "\n",
    "# Set a scaling factor (adjust as needed)\n",
    "k = 1.5\n",
    "\n",
    "# Define the lower and upper bounds\n",
    "lower_bound = Q1 - k * IQR\n",
    "upper_bound = Q3 + k * IQR\n",
    "\n",
    "# Clip the outliers to the bounds\n",
    "df['width'] = df['width'].clip(lower=lower_bound, upper=upper_bound)"
   ]
  },
  {
   "cell_type": "code",
   "execution_count": 33,
   "metadata": {},
   "outputs": [],
   "source": [
    "df = df[df[\"selling_price\"]<=20000000]\n",
    "# Calculate the IQR\n",
    "Q1 = df['selling_price'].quantile(0.25)\n",
    "Q3 = df['selling_price'].quantile(0.75)\n",
    "IQR = Q3 - Q1\n",
    "\n",
    "# Set a scaling factor (adjust as needed)\n",
    "k = 1.5\n",
    "\n",
    "# Define the lower and upper bounds\n",
    "lower_bound = Q1 - k * IQR\n",
    "upper_bound = Q3 + k * IQR\n",
    "\n",
    "# Clip the outliers to the bounds\n",
    "df['selling_price'] = df['selling_price'].clip(lower=lower_bound, upper=upper_bound)"
   ]
  },
  {
   "cell_type": "code",
   "execution_count": 34,
   "metadata": {},
   "outputs": [],
   "source": [
    "model = LabelEncoder()\n",
    "df['status'] = model.fit_transform(df['status'])\n",
    "df['item type'] = model.fit_transform(df['item type'])"
   ]
  },
  {
   "cell_type": "code",
   "execution_count": 35,
   "metadata": {},
   "outputs": [],
   "source": [
    "df_price = df.copy()\n",
    "df_status = df.copy()"
   ]
  },
  {
   "cell_type": "code",
   "execution_count": 36,
   "metadata": {},
   "outputs": [
    {
     "data": {
      "text/html": [
       "<div>\n",
       "<style scoped>\n",
       "    .dataframe tbody tr th:only-of-type {\n",
       "        vertical-align: middle;\n",
       "    }\n",
       "\n",
       "    .dataframe tbody tr th {\n",
       "        vertical-align: top;\n",
       "    }\n",
       "\n",
       "    .dataframe thead th {\n",
       "        text-align: right;\n",
       "    }\n",
       "</style>\n",
       "<table border=\"1\" class=\"dataframe\">\n",
       "  <thead>\n",
       "    <tr style=\"text-align: right;\">\n",
       "      <th></th>\n",
       "      <th>quantity tons</th>\n",
       "      <th>country</th>\n",
       "      <th>status</th>\n",
       "      <th>item type</th>\n",
       "      <th>application</th>\n",
       "      <th>thickness</th>\n",
       "      <th>width</th>\n",
       "      <th>product_ref</th>\n",
       "      <th>selling_price</th>\n",
       "    </tr>\n",
       "  </thead>\n",
       "  <tbody>\n",
       "    <tr>\n",
       "      <th>0</th>\n",
       "      <td>54.151139</td>\n",
       "      <td>28.0</td>\n",
       "      <td>6</td>\n",
       "      <td>4</td>\n",
       "      <td>10.0</td>\n",
       "      <td>2.0</td>\n",
       "      <td>1500.0</td>\n",
       "      <td>1670798778</td>\n",
       "      <td>854.0</td>\n",
       "    </tr>\n",
       "  </tbody>\n",
       "</table>\n",
       "</div>"
      ],
      "text/plain": [
       "   quantity tons country  status  item type  application  thickness   width  \\\n",
       "0      54.151139    28.0       6          4         10.0        2.0  1500.0   \n",
       "\n",
       "   product_ref  selling_price  \n",
       "0   1670798778          854.0  "
      ]
     },
     "execution_count": 36,
     "metadata": {},
     "output_type": "execute_result"
    }
   ],
   "source": [
    "df.head(1)"
   ]
  },
  {
   "cell_type": "markdown",
   "metadata": {},
   "source": [
    "# Regression Model"
   ]
  },
  {
   "cell_type": "code",
   "execution_count": 79,
   "metadata": {},
   "outputs": [
    {
     "data": {
      "text/plain": [
       "quantity tons    0\n",
       "country          0\n",
       "status           0\n",
       "item type        0\n",
       "application      0\n",
       "thickness        0\n",
       "width            0\n",
       "product_ref      0\n",
       "selling_price    0\n",
       "dtype: int64"
      ]
     },
     "execution_count": 79,
     "metadata": {},
     "output_type": "execute_result"
    }
   ],
   "source": [
    "df_price.isnull().sum()"
   ]
  },
  {
   "cell_type": "code",
   "execution_count": 37,
   "metadata": {},
   "outputs": [
    {
     "data": {
      "text/plain": [
       "array([[ 0.10331724, -0.69253773,  0.70944452, ..., -0.13019759,\n",
       "         0.81483448,  1.66845629],\n",
       "       [ 2.13089141, -0.8155677 ,  0.70944452, ..., -0.76482446,\n",
       "        -0.35104084,  1.66553319],\n",
       "       [ 2.13089141, -0.61051775,  0.70944452, ..., -0.98694387,\n",
       "        -1.38826785, -0.65959956],\n",
       "       ...,\n",
       "       [-0.93601889, -0.8155677 ,  0.70944452, ..., -0.81242148,\n",
       "        -0.19023045, -0.43167797],\n",
       "       [-2.55230689, -0.8155677 ,  0.70944452, ..., -0.73838168,\n",
       "        -0.19023045, -0.43167797],\n",
       "       [ 2.13089141, -0.8155677 ,  0.70944452, ..., -0.81242148,\n",
       "        -0.23043305, -0.43167797]])"
      ]
     },
     "execution_count": 37,
     "metadata": {},
     "output_type": "execute_result"
    }
   ],
   "source": [
    "X = df_price.drop(['selling_price',],axis=1)\n",
    "y = df_price['selling_price']\n",
    "\n",
    "SS = StandardScaler()\n",
    "SS.fit_transform(X)"
   ]
  },
  {
   "cell_type": "code",
   "execution_count": 38,
   "metadata": {},
   "outputs": [
    {
     "name": "stdout",
     "output_type": "stream",
     "text": [
      "***** LinearRegression() *****\n",
      "*****MSE*****\n",
      "Train error: 192.7232383276437\n",
      "Test error: 193.10964807443094\n",
      "*****R2*****\n",
      "Train R squared value: 0.14889241660257857\n",
      "Test R squared value: 0.14846435137333458\n",
      "\n",
      "\n",
      "***** KNeighborsRegressor(n_neighbors=3) *****\n",
      "*****MSE*****\n",
      "Train error: 106.79337892729707\n",
      "Test error: 152.83564225548244\n",
      "*****R2*****\n",
      "Train R squared value: 0.7386605657501262\n",
      "Test R squared value: 0.4666108443130178\n",
      "\n",
      "\n",
      "***** DecisionTreeRegressor() *****\n",
      "*****MSE*****\n",
      "Train error: 26.306624965311123\n",
      "Test error: 159.4474336561674\n",
      "*****R2*****\n",
      "Train R squared value: 0.9841420677549303\n",
      "Test R squared value: 0.4194629305079437\n",
      "\n",
      "\n",
      "***** RandomForestRegressor() *****\n",
      "*****MSE*****\n",
      "Train error: 51.562772992843755\n",
      "Test error: 124.15236396840348\n",
      "*****R2*****\n",
      "Train R squared value: 0.9390759421896502\n",
      "Test R squared value: 0.6480306259527563\n",
      "\n",
      "\n",
      "***** Lasso() *****\n",
      "*****MSE*****\n",
      "Train error: 192.73274204620284\n",
      "Test error: 193.11652136745744\n",
      "*****R2*****\n",
      "Train R squared value: 0.1488084735716897\n",
      "Test R squared value: 0.14840373339537938\n",
      "\n",
      "\n",
      "***** Ridge() *****\n",
      "*****MSE*****\n",
      "Train error: 192.7232383279034\n",
      "Test error: 193.10964702375975\n",
      "*****R2*****\n",
      "Train R squared value: 0.14889241660028485\n",
      "Test R squared value: 0.14846436063940682\n",
      "\n",
      "\n"
     ]
    },
    {
     "name": "stderr",
     "output_type": "stream",
     "text": [
      "c:\\Users\\winne\\AppData\\Local\\Programs\\Python\\Python311\\Lib\\site-packages\\sklearn\\linear_model\\_ridge.py:200: LinAlgWarning: Ill-conditioned matrix (rcond=5.34143e-19): result may not be accurate.\n",
      "  return linalg.solve(A, Xy, assume_a=\"pos\", overwrite_a=True).T\n"
     ]
    }
   ],
   "source": [
    "x_train,x_test,y_train,y_test = train_test_split(X,y,test_size=0.3)\n",
    "\n",
    "models = [LinearRegression(),KNeighborsRegressor(n_neighbors=3),DecisionTreeRegressor(),RandomForestRegressor(),Lasso(),Ridge()]\n",
    "\n",
    "for model in models:\n",
    "    model.fit(x_train,y_train)\n",
    "    train_pred = model.predict(x_train)\n",
    "    test_pred = model.predict(x_test)\n",
    "    print(\"*****\",model,\"*****\")\n",
    "    print(\"*****MSE*****\")\n",
    "    print(f\"Train error: {math.sqrt(mean_squared_error(y_train,train_pred))}\")\n",
    "    print(f\"Test error: {math.sqrt(mean_squared_error(y_test,test_pred))}\")\n",
    "    print(\"*****R2*****\")\n",
    "    print(f\"Train R squared value: {(r2_score(y_train,train_pred))}\")\n",
    "    print(f\"Test R squared value: {(r2_score(y_test,test_pred))}\")\n",
    "    \n",
    "    print(\"\\n\")"
   ]
  },
  {
   "cell_type": "markdown",
   "metadata": {},
   "source": [
    "Test"
   ]
  },
  {
   "cell_type": "code",
   "execution_count": 63,
   "metadata": {},
   "outputs": [
    {
     "data": {
      "text/html": [
       "<div>\n",
       "<style scoped>\n",
       "    .dataframe tbody tr th:only-of-type {\n",
       "        vertical-align: middle;\n",
       "    }\n",
       "\n",
       "    .dataframe tbody tr th {\n",
       "        vertical-align: top;\n",
       "    }\n",
       "\n",
       "    .dataframe thead th {\n",
       "        text-align: right;\n",
       "    }\n",
       "</style>\n",
       "<table border=\"1\" class=\"dataframe\">\n",
       "  <thead>\n",
       "    <tr style=\"text-align: right;\">\n",
       "      <th></th>\n",
       "      <th>quantity tons</th>\n",
       "      <th>country</th>\n",
       "      <th>status</th>\n",
       "      <th>item type</th>\n",
       "      <th>application</th>\n",
       "      <th>thickness</th>\n",
       "      <th>width</th>\n",
       "      <th>product_ref</th>\n",
       "    </tr>\n",
       "  </thead>\n",
       "  <tbody>\n",
       "    <tr>\n",
       "      <th>0</th>\n",
       "      <td>54.151139</td>\n",
       "      <td>28.0</td>\n",
       "      <td>6</td>\n",
       "      <td>4</td>\n",
       "      <td>10.0</td>\n",
       "      <td>2.0</td>\n",
       "      <td>1500.0</td>\n",
       "      <td>1670798778</td>\n",
       "    </tr>\n",
       "  </tbody>\n",
       "</table>\n",
       "</div>"
      ],
      "text/plain": [
       "   quantity tons country  status  item type  application  thickness   width  \\\n",
       "0      54.151139    28.0       6          4         10.0        2.0  1500.0   \n",
       "\n",
       "   product_ref  \n",
       "0   1670798778  "
      ]
     },
     "execution_count": 63,
     "metadata": {},
     "output_type": "execute_result"
    }
   ],
   "source": [
    "X.head(1)"
   ]
  },
  {
   "cell_type": "code",
   "execution_count": 81,
   "metadata": {},
   "outputs": [],
   "source": [
    "PR = X['product_ref'].unique()\n",
    "W_MAX = X.width.max()\n",
    "W_MIN = X.width.min()\n",
    "T_MIN = X.thickness.min()\n",
    "T_MAX = X.thickness.max()\n",
    "A = X.application.unique()\n",
    "IT = X['item type'].unique()\n",
    "S = X['status'].unique()\n",
    "C = X['country'].unique()\n",
    "QT_MIN = X['quantity tons'].min()\n",
    "QT_MAX = X['quantity tons'].max()"
   ]
  },
  {
   "cell_type": "code",
   "execution_count": 62,
   "metadata": {},
   "outputs": [
    {
     "name": "stdout",
     "output_type": "stream",
     "text": [
      "Predicted Result: 772.8671999999999\n"
     ]
    },
    {
     "name": "stderr",
     "output_type": "stream",
     "text": [
      "c:\\Users\\winne\\AppData\\Local\\Programs\\Python\\Python311\\Lib\\site-packages\\sklearn\\base.py:465: UserWarning: X does not have valid feature names, but RandomForestRegressor was fitted with feature names\n",
      "  warnings.warn(\n"
     ]
    }
   ],
   "source": [
    "x_train, x_test, y_train, y_test = train_test_split(X, y, test_size=0.3)\n",
    "\n",
    "# Choose the best model (RandomForestRegressor in this case)\n",
    "best_model = RandomForestRegressor()\n",
    "\n",
    "# Train the best model on the entire training dataset\n",
    "best_model.fit(x_train, y_train)\n",
    "\n",
    "# Now, you can input new values for prediction\n",
    "new_input = [[91,25,6,3,59,1.2,1420,628377]]  # ['quantity tons','country','status','item type','application','thickness','width','product_ref']\n",
    "\n",
    "# Make predictions using the best model\n",
    "prediction = best_model.predict(new_input)\n",
    "\n",
    "# Print the predicted result\n",
    "print(\"Predicted Result:\", *prediction)"
   ]
  },
  {
   "cell_type": "markdown",
   "metadata": {},
   "source": [
    "# Classification Model"
   ]
  },
  {
   "cell_type": "code",
   "execution_count": null,
   "metadata": {},
   "outputs": [
    {
     "name": "stderr",
     "output_type": "stream",
     "text": [
      "c:\\Users\\winne\\AppData\\Local\\Programs\\Python\\Python311\\Lib\\site-packages\\pandas\\core\\arraylike.py:396: RuntimeWarning: invalid value encountered in log\n",
      "  result = getattr(ufunc, method)(*inputs, **kwargs)\n"
     ]
    }
   ],
   "source": [
    "df_status['quantity tons'] = np.log(df_status['quantity tons'])\n",
    "df_status['application'] = np.log(df_status['application'])\n",
    "df_status['thickness'] = np.log(df_status['thickness'])\n",
    "df_status['width'] = np.log(df_status['width'])\n",
    "df_status['selling_price'] = np.log(df_status['selling_price'])\n",
    "df_status = df_status.dropna(subset=['quantity tons'])"
   ]
  },
  {
   "cell_type": "code",
   "execution_count": 80,
   "metadata": {},
   "outputs": [
    {
     "data": {
      "text/html": [
       "<div>\n",
       "<style scoped>\n",
       "    .dataframe tbody tr th:only-of-type {\n",
       "        vertical-align: middle;\n",
       "    }\n",
       "\n",
       "    .dataframe tbody tr th {\n",
       "        vertical-align: top;\n",
       "    }\n",
       "\n",
       "    .dataframe thead th {\n",
       "        text-align: right;\n",
       "    }\n",
       "</style>\n",
       "<table border=\"1\" class=\"dataframe\">\n",
       "  <thead>\n",
       "    <tr style=\"text-align: right;\">\n",
       "      <th></th>\n",
       "      <th>quantity tons</th>\n",
       "      <th>country</th>\n",
       "      <th>status</th>\n",
       "      <th>item type</th>\n",
       "      <th>application</th>\n",
       "      <th>thickness</th>\n",
       "      <th>width</th>\n",
       "      <th>product_ref</th>\n",
       "      <th>selling_price</th>\n",
       "    </tr>\n",
       "  </thead>\n",
       "  <tbody>\n",
       "    <tr>\n",
       "      <th>0</th>\n",
       "      <td>54.151139</td>\n",
       "      <td>28.0</td>\n",
       "      <td>6</td>\n",
       "      <td>4</td>\n",
       "      <td>10.0</td>\n",
       "      <td>2.0</td>\n",
       "      <td>1500.0</td>\n",
       "      <td>1670798778</td>\n",
       "      <td>854.0</td>\n",
       "    </tr>\n",
       "  </tbody>\n",
       "</table>\n",
       "</div>"
      ],
      "text/plain": [
       "   quantity tons country  status  item type  application  thickness   width  \\\n",
       "0      54.151139    28.0       6          4         10.0        2.0  1500.0   \n",
       "\n",
       "   product_ref  selling_price  \n",
       "0   1670798778          854.0  "
      ]
     },
     "execution_count": 80,
     "metadata": {},
     "output_type": "execute_result"
    }
   ],
   "source": [
    "df_status.head(1)"
   ]
  },
  {
   "cell_type": "code",
   "execution_count": 85,
   "metadata": {},
   "outputs": [
    {
     "data": {
      "text/plain": [
       "array([6, 0, 5, 1, 2, 7, 4, 3])"
      ]
     },
     "execution_count": 85,
     "metadata": {},
     "output_type": "execute_result"
    }
   ],
   "source": [
    "X = df_status.drop(['status'],axis=1)\n",
    "y = df_status['status']\n",
    "df_status.status.unique()"
   ]
  },
  {
   "cell_type": "code",
   "execution_count": 84,
   "metadata": {},
   "outputs": [],
   "source": [
    "pr = X['product_ref'].unique()\n",
    "w_max = X.width.max()\n",
    "w_min = X.width.min()\n",
    "t_min = X.thickness.min()\n",
    "t_max = X.thickness.max()\n",
    "a = X.application.unique()\n",
    "it = X['item type'].unique()\n",
    "sp_min = X.selling_price.min()\n",
    "sp_max = X.selling_price.max()\n",
    "c = X['country'].unique()\n",
    "qt_min = X['quantity tons'].min()\n",
    "qt_max = X['quantity tons'].max()"
   ]
  },
  {
   "cell_type": "code",
   "execution_count": null,
   "metadata": {},
   "outputs": [
    {
     "name": "stdout",
     "output_type": "stream",
     "text": [
      "***** LogisticRegression() *****\n",
      "*****Train*****\n",
      "Training Accuracy: 0.6388915124039793\n",
      "Training Precision: 0.6388915124039793\n",
      "Training Recall: 0.6388915124039793\n",
      "Training F1 Score: 0.6388915124039793\n",
      "*****Test*****\n",
      "Test Accuracy: 0.6384955833471067\n",
      "Test Precision: 0.6384955833471067\n",
      "Test Recall: 0.6384955833471067\n",
      "Test F1 Score: 0.6384955833471067\n",
      "\n",
      "\n",
      "***** DecisionTreeClassifier() *****\n",
      "*****Train*****\n",
      "Training Accuracy: 0.9994648029215464\n",
      "Training Precision: 0.9994648029215464\n",
      "Training Recall: 0.9994648029215464\n",
      "Training F1 Score: 0.9994648029215464\n",
      "*****Test*****\n",
      "Test Accuracy: 0.7773309092244688\n",
      "Test Precision: 0.7773309092244688\n",
      "Test Recall: 0.7773309092244688\n",
      "Test F1 Score: 0.7773309092244687\n",
      "\n",
      "\n",
      "***** KNeighborsClassifier() *****\n",
      "*****Train*****\n",
      "Training Accuracy: 0.8431085505603828\n",
      "Training Precision: 0.8431085505603828\n",
      "Training Recall: 0.8431085505603828\n",
      "Training F1 Score: 0.8431085505603828\n",
      "*****Test*****\n",
      "Test Accuracy: 0.7703707784695059\n",
      "Test Precision: 0.7703707784695059\n",
      "Test Recall: 0.7703707784695059\n",
      "Test F1 Score: 0.7703707784695059\n",
      "\n",
      "\n",
      "***** AdaBoostClassifier() *****\n",
      "*****Train*****\n",
      "Training Accuracy: 0.3181431809595769\n",
      "Training Precision: 0.3181431809595769\n",
      "Training Recall: 0.3181431809595769\n",
      "Training F1 Score: 0.3181431809595769\n",
      "*****Test*****\n",
      "Test Accuracy: 0.31933961397902777\n",
      "Test Precision: 0.31933961397902777\n",
      "Test Recall: 0.31933961397902777\n",
      "Test F1 Score: 0.31933961397902777\n",
      "\n",
      "\n",
      "***** GradientBoostingClassifier() *****\n",
      "*****Train*****\n",
      "Training Accuracy: 0.7105213449187759\n",
      "Training Precision: 0.7105213449187759\n",
      "Training Recall: 0.7105213449187759\n",
      "Training F1 Score: 0.7105213449187759\n",
      "*****Test*****\n",
      "Test Accuracy: 0.7065726406258608\n",
      "Test Precision: 0.7065726406258608\n",
      "Test Recall: 0.7065726406258608\n",
      "Test F1 Score: 0.7065726406258608\n",
      "\n",
      "\n",
      "***** RandomForestClassifier() *****\n",
      "*****Train*****\n",
      "Training Accuracy: 0.9994411912857323\n",
      "Training Precision: 0.9994411912857323\n",
      "Training Recall: 0.9994411912857323\n",
      "Training F1 Score: 0.9994411912857323\n",
      "*****Test*****\n",
      "Test Accuracy: 0.8214790736965824\n",
      "Test Precision: 0.8214790736965824\n",
      "Test Recall: 0.8214790736965824\n",
      "Test F1 Score: 0.8214790736965824\n",
      "\n",
      "\n"
     ]
    }
   ],
   "source": [
    "X = df_status.drop(['status'],axis=1)\n",
    "y = df_status['status']\n",
    "x_train,x_test,y_train,y_test = train_test_split(X,y,test_size=0.3)\n",
    "\n",
    "models = [LogisticRegression(),DecisionTreeClassifier(),KNeighborsClassifier(),AdaBoostClassifier(),GradientBoostingClassifier(),RandomForestClassifier()]\n",
    "\n",
    "for model in models:\n",
    "    model.fit(x_train,y_train)\n",
    "    train_pred = model.predict(x_train)\n",
    "    test_pred = model.predict(x_test)\n",
    "    print(\"*****\",model,\"*****\")\n",
    "    print(\"*****Train*****\")\n",
    "    print(f\"Training Accuracy: {accuracy_score(y_train,train_pred)}\")\n",
    "    print(f\"Training Precision: {precision_score(y_train,train_pred,average='micro')}\")\n",
    "    print(f\"Training Recall: {recall_score(y_train,train_pred,average='micro')}\")\n",
    "    print(f\"Training F1 Score: {f1_score(y_train,train_pred,average='micro')}\")\n",
    "    print(\"*****Test*****\")\n",
    "    print(f\"Test Accuracy: {accuracy_score(y_test,test_pred)}\")\n",
    "    print(f\"Test Precision: {precision_score(y_test,test_pred,average='micro')}\")\n",
    "    print(f\"Test Recall: {recall_score(y_test,test_pred,average='micro')}\")\n",
    "    print(f\"Test F1 Score: {f1_score(y_test,test_pred,average='micro')}\")\n",
    "    print(\"\\n\")"
   ]
  },
  {
   "cell_type": "code",
   "execution_count": 166,
   "metadata": {},
   "outputs": [
    {
     "data": {
      "image/png": "[encoded data removed]",
      "text/plain": [
       "<Figure size 640x480 with 1 Axes>"
      ]
     },
     "metadata": {},
     "output_type": "display_data"
    }
   ],
   "source": [
    "sns.boxplot(df_price,y=\"selling_price\")\n",
    "plt.show()"
   ]
  },
  {
   "cell_type": "code",
   "execution_count": null,
   "metadata": {},
   "outputs": [],
   "source": []
  },
  {
   "cell_type": "code",
   "execution_count": null,
   "metadata": {},
   "outputs": [],
   "source": []
  },
  {
   "cell_type": "code",
   "execution_count": null,
   "metadata": {},
   "outputs": [],
   "source": []
  }
 ],
 "metadata": {
  "kernelspec": {
   "display_name": "Python 3",
   "language": "python",
   "name": "python3"
  },
  "language_info": {
   "codemirror_mode": {
    "name": "ipython",
    "version": 3
   },
   "file_extension": ".py",
   "mimetype": "text/x-python",
   "name": "python",
   "nbconvert_exporter": "python",
   "pygments_lexer": "ipython3",
   "version": "3.11.5"
  }
 },
 "nbformat": 4,
 "nbformat_minor": 2
}
